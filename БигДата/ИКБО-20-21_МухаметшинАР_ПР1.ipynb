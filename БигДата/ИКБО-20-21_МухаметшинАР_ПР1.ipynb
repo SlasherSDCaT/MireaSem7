{
 "cells": [
  {
   "cell_type": "markdown",
   "metadata": {},
   "source": [
    "# Task 1\n",
    "\n"
   ]
  },
  {
   "cell_type": "markdown",
   "metadata": {},
   "source": [
    "**Описание**\n",
    "\n",
    "Написать программу, которая вычисляет площадь фигуры, параметры которой  \n",
    "подаются на вход. Фигуры, которые подаются на вход: треугольник, прямоугольник, круг.  \n",
    "Результатом работы является словарь, где ключ – это название фигуры, а значение – это площадь\n",
    "\n",
    "**Решение**"
   ]
  },
  {
   "cell_type": "code",
   "execution_count": 1,
   "metadata": {},
   "outputs": [
    {
     "name": "stdout",
     "output_type": "stream",
     "text": [
      "Выберите фигуру:\n",
      "(1) - треугольник\n",
      "(2) - прямоугольник\n",
      "(3) - круг\n",
      "Результат: {'rectangle': 50.0}\n"
     ]
    }
   ],
   "source": [
    "import math\n",
    "\n",
    "# Функция для вычисления площади треугольника\n",
    "def calc_triangle(h, b):\n",
    "    return 0.5 * h * b\n",
    "\n",
    "# Функция для вычисления площади прямоугольника\n",
    "def calc_rectangle(a, b):\n",
    "    return a * b\n",
    "\n",
    "# Функция для вычисления площади круга\n",
    "def calc_circle(r):\n",
    "    return math.pi * (r ** 2)\n",
    "\n",
    "# Основная функция\n",
    "def calculate_area():\n",
    "    print(\"Выберите фигуру:\")\n",
    "    print(\"(1) - треугольник\")\n",
    "    print(\"(2) - прямоугольник\")\n",
    "    print(\"(3) - круг\")\n",
    "    \n",
    "    figure = int(input(\"Введите номер фигуры: \"))\n",
    "    \n",
    "    if figure == 1:\n",
    "        h = float(input(\"Введите высоту треугольника: \"))\n",
    "        b = float(input(\"Введите основание треугольника: \"))\n",
    "        area = calc_triangle(h, b)\n",
    "        return {'triangle': area}\n",
    "    \n",
    "    elif figure == 2:\n",
    "        a = float(input(\"Введите длину прямоугольника: \"))\n",
    "        b = float(input(\"Введите ширину прямоугольника: \"))\n",
    "        area = calc_rectangle(a, b)\n",
    "        return {'rectangle': area}\n",
    "    \n",
    "    elif figure == 3:\n",
    "        r = float(input(\"Введите радиус круга: \"))\n",
    "        area = calc_circle(r)\n",
    "        return {'circle': area}\n",
    "    \n",
    "    else:\n",
    "        return \"Неверный ввод. Пожалуйста, выберите 1, 2 или 3.\"\n",
    "\n",
    "# Запуск программы\n",
    "result = calculate_area()\n",
    "print(\"Результат:\", result)"
   ]
  },
  {
   "cell_type": "markdown",
   "metadata": {},
   "source": [
    "# Task 2"
   ]
  },
  {
   "cell_type": "markdown",
   "metadata": {},
   "source": [
    "**Описание**\n",
    "\n",
    "Написать программу, которая на вход получает два числа и операцию, которую к ним нужно применить.  \n",
    "Должны быть реализованы следующие операции: `+`, `-`, `/`, `//`, `abs` – модуль, `pow` или `**` – возведение в степень\n",
    "\n",
    "**Решение**"
   ]
  },
  {
   "cell_type": "code",
   "execution_count": 3,
   "metadata": {},
   "outputs": [
    {
     "name": "stdout",
     "output_type": "stream",
     "text": [
      "Выбранные числа: 2.0 10.0\n",
      "Операция pow\n",
      "Результат операции: 1024.0\n"
     ]
    }
   ],
   "source": [
    "# Функция для выполнения операций\n",
    "def calculate(num1, num2, operation):\n",
    "    if operation == '+':\n",
    "        return num1 + num2\n",
    "    elif operation == '-':\n",
    "        return num1 - num2\n",
    "    elif operation == '/':\n",
    "        if num2 == 0:\n",
    "            return \"Деление на ноль невозможно\"\n",
    "        return num1 / num2\n",
    "    elif operation == '//':\n",
    "        if num2 == 0:\n",
    "            return \"Целочисленное деление на ноль невозможно\"\n",
    "        return num1 // num2\n",
    "    elif operation == 'abs':\n",
    "        return abs(num1), abs(num2)  # возвращает модуль обоих чисел\n",
    "    elif operation == 'pow' or operation == '**':\n",
    "        return pow(num1, num2)  # или num1 ** num2\n",
    "    else:\n",
    "        return \"Неизвестная операция\"\n",
    "\n",
    "# Основная функция\n",
    "def main():\n",
    "    num1 = float(input(\"Введите первое число: \"))\n",
    "    num2 = float(input(\"Введите второе число: \"))\n",
    "    operation = input(\"Введите операцию (+, -, /, //, abs, pow, **): \")\n",
    "    print('Выбранные числа:', num1, num2)\n",
    "    print('Операция', operation)\n",
    "    \n",
    "    result = calculate(num1, num2, operation)\n",
    "    \n",
    "    print(f\"Результат операции: {result}\")\n",
    "\n",
    "# Запуск программы\n",
    "main()"
   ]
  },
  {
   "cell_type": "markdown",
   "metadata": {},
   "source": [
    "# Task 3"
   ]
  },
  {
   "cell_type": "markdown",
   "metadata": {},
   "source": [
    "**Описание**\n",
    "\n",
    "Написать программу, которая считывает с консоли числа  (по одному в строке) до тех пор,   \n",
    "пока сумма введённых чисел не будет равна `0` и после этого выводит сумму квадратов всех считанных чисел\n",
    "\n",
    "**Решение**"
   ]
  },
  {
   "cell_type": "code",
   "execution_count": 6,
   "metadata": {},
   "outputs": [
    {
     "name": "stdout",
     "output_type": "stream",
     "text": [
      "350\n"
     ]
    }
   ],
   "source": [
    "def sol():\n",
    "    sum = int(input())\n",
    "    sqr_sum = sum * sum\n",
    "\n",
    "    while (sum != 0):\n",
    "        num = int(input())\n",
    "        sum += num\n",
    "        sqr_sum += num * num\n",
    "\n",
    "    return sqr_sum\n",
    "\n",
    "\n",
    "def main():\n",
    "    print(sol())\n",
    "\n",
    "\n",
    "if __name__ == '__main__':\n",
    "    main()"
   ]
  },
  {
   "cell_type": "markdown",
   "metadata": {},
   "source": [
    "# Task 4"
   ]
  },
  {
   "cell_type": "markdown",
   "metadata": {},
   "source": [
    "**Описание**\n",
    "\n",
    "Написать программу, которая выводит последовательность чисел длиной `N`,  \n",
    "где каждое число повторяется столько раз, чему оно равно. На вход программе передаётся  \n",
    "неотрицательное целое число `N`. Например, если `N = 7`, то программа должна вывести `1 2 2 3 3 3 4`.   \n",
    "Вывод элементов списка через пробел – `print(*list)`\n",
    "\n",
    "**Решение**"
   ]
  },
  {
   "cell_type": "code",
   "execution_count": 9,
   "metadata": {},
   "outputs": [
    {
     "name": "stdout",
     "output_type": "stream",
     "text": [
      "N= 7\n",
      "1 2 2 3 3 3 4\n"
     ]
    }
   ],
   "source": [
    "def generate_sequence(N):\n",
    "    result = []\n",
    "    for i in range(1, N + 1):\n",
    "        result.extend([i] * i)  \n",
    "        if len(result) >= N:  \n",
    "            break\n",
    "    return result[:N]  \n",
    "\n",
    "def main():\n",
    "    N = int(input(\"Введите неотрицательное целое число N: \"))\n",
    "    print('N=', N)\n",
    "    if N < 0:\n",
    "        print(\"Число должно быть неотрицательным\")\n",
    "    else:\n",
    "        sequence = generate_sequence(N)\n",
    "        print(*sequence)  \n",
    "\n",
    "main()"
   ]
  },
  {
   "cell_type": "markdown",
   "metadata": {},
   "source": [
    "# Task 5"
   ]
  },
  {
   "cell_type": "markdown",
   "metadata": {},
   "source": [
    "**Описание**\n",
    "\n",
    "Даны два списка:  \n",
    "`А = [1, 2, 3, 4, 2, 1, 3, 4, 5, 6, 5, 4, 3, 2]`  \n",
    "`В = ['a', 'b', 'c', 'c', 'c', 'b', 'a', 'c', 'a', 'a', 'b', 'c', 'b', 'a']`  \n",
    "\n",
    "Создать словарь, в котором ключи – это содержимое списка `В`, а значения для ключей словаря – это сумма  \n",
    "всех элементов списка `А` в соответствии с буквой, содержащийся на той же позиции в списке `В`.  \n",
    "Пример результата программы: `{'a' : 10, 'b' : 15, 'c' : 6}`\n",
    "\n",
    "**Решение**"
   ]
  },
  {
   "cell_type": "code",
   "execution_count": 11,
   "metadata": {},
   "outputs": [
    {
     "name": "stdout",
     "output_type": "stream",
     "text": [
      "{'a': 17, 'b': 11, 'c': 17}\n"
     ]
    }
   ],
   "source": [
    "A = [1, 2, 3, 4, 2, 1, 3, 4, 5, 6, 5, 4, 3, 2]\n",
    "B = ['a', 'b', 'c', 'c', 'c', 'b', 'a', 'c', 'a', 'a', 'b', 'c', 'b', 'a']\n",
    "\n",
    "result = {}\n",
    "\n",
    "for i in range(len(B)):\n",
    "    key = B[i]\n",
    "    value = A[i]\n",
    "    \n",
    "    if key in result:\n",
    "        result[key] += value\n",
    "    else:\n",
    "        result[key] = value\n",
    "\n",
    "print(result)\n"
   ]
  },
  {
   "cell_type": "markdown",
   "metadata": {},
   "source": [
    "# Task 6"
   ]
  },
  {
   "cell_type": "markdown",
   "metadata": {},
   "source": [
    "**Описание**\n",
    "\n",
    "Скачать и загрузить данные о стоимости домов в Калифорнии, используя библиотеку `sklearn`  \n",
    "\n",
    "**Решение**"
   ]
  },
  {
   "cell_type": "code",
   "execution_count": 21,
   "metadata": {},
   "outputs": [],
   "source": [
    "from sklearn.datasets import fetch_california_housing\n",
    "\n",
    "data = fetch_california_housing(as_frame=True)"
   ]
  },
  {
   "cell_type": "markdown",
   "metadata": {},
   "source": [
    "# Task 7"
   ]
  },
  {
   "cell_type": "markdown",
   "metadata": {},
   "source": [
    "**Описание**\n",
    "\n",
    "Использовать метод `info()`\n",
    "\n",
    "**Решение**"
   ]
  },
  {
   "cell_type": "code",
   "execution_count": 22,
   "metadata": {},
   "outputs": [
    {
     "name": "stdout",
     "output_type": "stream",
     "text": [
      "<class 'pandas.core.frame.DataFrame'>\n",
      "RangeIndex: 20640 entries, 0 to 20639\n",
      "Data columns (total 9 columns):\n",
      " #   Column       Non-Null Count  Dtype  \n",
      "---  ------       --------------  -----  \n",
      " 0   MedInc       20640 non-null  float64\n",
      " 1   HouseAge     20640 non-null  float64\n",
      " 2   AveRooms     20640 non-null  float64\n",
      " 3   AveBedrms    20640 non-null  float64\n",
      " 4   Population   20640 non-null  float64\n",
      " 5   AveOccup     20640 non-null  float64\n",
      " 6   Latitude     20640 non-null  float64\n",
      " 7   Longitude    20640 non-null  float64\n",
      " 8   MedHouseVal  20640 non-null  float64\n",
      "dtypes: float64(9)\n",
      "memory usage: 1.4 MB\n"
     ]
    }
   ],
   "source": [
    "df = data.frame\n",
    "df.info()"
   ]
  },
  {
   "cell_type": "markdown",
   "metadata": {},
   "source": [
    "# Task 8"
   ]
  },
  {
   "cell_type": "markdown",
   "metadata": {},
   "source": [
    "**Описание**\n",
    "\n",
    "Узнать, есть ли пропущенные значения, используя `isna().sum()`\n",
    "\n",
    "**Решение**"
   ]
  },
  {
   "cell_type": "code",
   "execution_count": 23,
   "metadata": {},
   "outputs": [
    {
     "data": {
      "text/plain": [
       "MedInc         0\n",
       "HouseAge       0\n",
       "AveRooms       0\n",
       "AveBedrms      0\n",
       "Population     0\n",
       "AveOccup       0\n",
       "Latitude       0\n",
       "Longitude      0\n",
       "MedHouseVal    0\n",
       "dtype: int64"
      ]
     },
     "execution_count": 23,
     "metadata": {},
     "output_type": "execute_result"
    }
   ],
   "source": [
    "df.isna().sum()"
   ]
  },
  {
   "cell_type": "markdown",
   "metadata": {},
   "source": [
    "# Task 9"
   ]
  },
  {
   "cell_type": "markdown",
   "metadata": {},
   "source": [
    "**Описание**\n",
    "\n",
    "Вывести записи, где средний возраст домов в районе более `50` лет и\n",
    "население более `2500` человек, используя метод `loc()`\n",
    "\n",
    "**Решение**"
   ]
  },
  {
   "cell_type": "code",
   "execution_count": 24,
   "metadata": {},
   "outputs": [
    {
     "data": {
      "text/html": [
       "<div>\n",
       "<style scoped>\n",
       "    .dataframe tbody tr th:only-of-type {\n",
       "        vertical-align: middle;\n",
       "    }\n",
       "\n",
       "    .dataframe tbody tr th {\n",
       "        vertical-align: top;\n",
       "    }\n",
       "\n",
       "    .dataframe thead th {\n",
       "        text-align: right;\n",
       "    }\n",
       "</style>\n",
       "<table border=\"1\" class=\"dataframe\">\n",
       "  <thead>\n",
       "    <tr style=\"text-align: right;\">\n",
       "      <th></th>\n",
       "      <th>MedInc</th>\n",
       "      <th>HouseAge</th>\n",
       "      <th>AveRooms</th>\n",
       "      <th>AveBedrms</th>\n",
       "      <th>Population</th>\n",
       "      <th>AveOccup</th>\n",
       "      <th>Latitude</th>\n",
       "      <th>Longitude</th>\n",
       "      <th>MedHouseVal</th>\n",
       "    </tr>\n",
       "  </thead>\n",
       "  <tbody>\n",
       "    <tr>\n",
       "      <th>460</th>\n",
       "      <td>1.4012</td>\n",
       "      <td>52.0</td>\n",
       "      <td>3.105714</td>\n",
       "      <td>1.060000</td>\n",
       "      <td>3337.0</td>\n",
       "      <td>9.534286</td>\n",
       "      <td>37.87</td>\n",
       "      <td>-122.26</td>\n",
       "      <td>1.75000</td>\n",
       "    </tr>\n",
       "    <tr>\n",
       "      <th>4131</th>\n",
       "      <td>3.5349</td>\n",
       "      <td>52.0</td>\n",
       "      <td>4.646119</td>\n",
       "      <td>1.047945</td>\n",
       "      <td>2589.0</td>\n",
       "      <td>5.910959</td>\n",
       "      <td>34.13</td>\n",
       "      <td>-118.20</td>\n",
       "      <td>1.93600</td>\n",
       "    </tr>\n",
       "    <tr>\n",
       "      <th>4440</th>\n",
       "      <td>2.6806</td>\n",
       "      <td>52.0</td>\n",
       "      <td>4.806283</td>\n",
       "      <td>1.057592</td>\n",
       "      <td>3062.0</td>\n",
       "      <td>4.007853</td>\n",
       "      <td>34.08</td>\n",
       "      <td>-118.21</td>\n",
       "      <td>1.53000</td>\n",
       "    </tr>\n",
       "    <tr>\n",
       "      <th>5986</th>\n",
       "      <td>1.8750</td>\n",
       "      <td>52.0</td>\n",
       "      <td>4.500000</td>\n",
       "      <td>1.206349</td>\n",
       "      <td>2688.0</td>\n",
       "      <td>21.333333</td>\n",
       "      <td>34.10</td>\n",
       "      <td>-117.71</td>\n",
       "      <td>2.12500</td>\n",
       "    </tr>\n",
       "    <tr>\n",
       "      <th>7369</th>\n",
       "      <td>3.1901</td>\n",
       "      <td>52.0</td>\n",
       "      <td>4.730942</td>\n",
       "      <td>1.017937</td>\n",
       "      <td>3731.0</td>\n",
       "      <td>4.182735</td>\n",
       "      <td>33.97</td>\n",
       "      <td>-118.21</td>\n",
       "      <td>1.67600</td>\n",
       "    </tr>\n",
       "    <tr>\n",
       "      <th>8227</th>\n",
       "      <td>2.3305</td>\n",
       "      <td>52.0</td>\n",
       "      <td>3.488860</td>\n",
       "      <td>1.170380</td>\n",
       "      <td>3018.0</td>\n",
       "      <td>3.955439</td>\n",
       "      <td>33.78</td>\n",
       "      <td>-118.20</td>\n",
       "      <td>1.62500</td>\n",
       "    </tr>\n",
       "    <tr>\n",
       "      <th>13034</th>\n",
       "      <td>6.1359</td>\n",
       "      <td>52.0</td>\n",
       "      <td>8.275862</td>\n",
       "      <td>1.517241</td>\n",
       "      <td>6675.0</td>\n",
       "      <td>230.172414</td>\n",
       "      <td>38.69</td>\n",
       "      <td>-121.15</td>\n",
       "      <td>2.25000</td>\n",
       "    </tr>\n",
       "    <tr>\n",
       "      <th>15634</th>\n",
       "      <td>1.8295</td>\n",
       "      <td>52.0</td>\n",
       "      <td>2.628169</td>\n",
       "      <td>1.053521</td>\n",
       "      <td>2957.0</td>\n",
       "      <td>4.164789</td>\n",
       "      <td>37.80</td>\n",
       "      <td>-122.41</td>\n",
       "      <td>2.43800</td>\n",
       "    </tr>\n",
       "    <tr>\n",
       "      <th>15652</th>\n",
       "      <td>0.9000</td>\n",
       "      <td>52.0</td>\n",
       "      <td>2.237474</td>\n",
       "      <td>1.053535</td>\n",
       "      <td>3260.0</td>\n",
       "      <td>2.237474</td>\n",
       "      <td>37.80</td>\n",
       "      <td>-122.41</td>\n",
       "      <td>5.00001</td>\n",
       "    </tr>\n",
       "    <tr>\n",
       "      <th>15657</th>\n",
       "      <td>2.5166</td>\n",
       "      <td>52.0</td>\n",
       "      <td>2.839075</td>\n",
       "      <td>1.184049</td>\n",
       "      <td>3436.0</td>\n",
       "      <td>1.621520</td>\n",
       "      <td>37.79</td>\n",
       "      <td>-122.41</td>\n",
       "      <td>2.75000</td>\n",
       "    </tr>\n",
       "    <tr>\n",
       "      <th>15659</th>\n",
       "      <td>1.7240</td>\n",
       "      <td>52.0</td>\n",
       "      <td>2.278566</td>\n",
       "      <td>1.082348</td>\n",
       "      <td>4518.0</td>\n",
       "      <td>1.780142</td>\n",
       "      <td>37.79</td>\n",
       "      <td>-122.41</td>\n",
       "      <td>2.25000</td>\n",
       "    </tr>\n",
       "    <tr>\n",
       "      <th>15795</th>\n",
       "      <td>2.5755</td>\n",
       "      <td>52.0</td>\n",
       "      <td>3.402576</td>\n",
       "      <td>1.058776</td>\n",
       "      <td>2619.0</td>\n",
       "      <td>2.108696</td>\n",
       "      <td>37.77</td>\n",
       "      <td>-122.42</td>\n",
       "      <td>3.25000</td>\n",
       "    </tr>\n",
       "    <tr>\n",
       "      <th>15868</th>\n",
       "      <td>2.8135</td>\n",
       "      <td>52.0</td>\n",
       "      <td>4.584329</td>\n",
       "      <td>1.041169</td>\n",
       "      <td>2987.0</td>\n",
       "      <td>3.966799</td>\n",
       "      <td>37.76</td>\n",
       "      <td>-122.41</td>\n",
       "      <td>2.60300</td>\n",
       "    </tr>\n",
       "  </tbody>\n",
       "</table>\n",
       "</div>"
      ],
      "text/plain": [
       "       MedInc  HouseAge  AveRooms  AveBedrms  Population    AveOccup  \\\n",
       "460    1.4012      52.0  3.105714   1.060000      3337.0    9.534286   \n",
       "4131   3.5349      52.0  4.646119   1.047945      2589.0    5.910959   \n",
       "4440   2.6806      52.0  4.806283   1.057592      3062.0    4.007853   \n",
       "5986   1.8750      52.0  4.500000   1.206349      2688.0   21.333333   \n",
       "7369   3.1901      52.0  4.730942   1.017937      3731.0    4.182735   \n",
       "8227   2.3305      52.0  3.488860   1.170380      3018.0    3.955439   \n",
       "13034  6.1359      52.0  8.275862   1.517241      6675.0  230.172414   \n",
       "15634  1.8295      52.0  2.628169   1.053521      2957.0    4.164789   \n",
       "15652  0.9000      52.0  2.237474   1.053535      3260.0    2.237474   \n",
       "15657  2.5166      52.0  2.839075   1.184049      3436.0    1.621520   \n",
       "15659  1.7240      52.0  2.278566   1.082348      4518.0    1.780142   \n",
       "15795  2.5755      52.0  3.402576   1.058776      2619.0    2.108696   \n",
       "15868  2.8135      52.0  4.584329   1.041169      2987.0    3.966799   \n",
       "\n",
       "       Latitude  Longitude  MedHouseVal  \n",
       "460       37.87    -122.26      1.75000  \n",
       "4131      34.13    -118.20      1.93600  \n",
       "4440      34.08    -118.21      1.53000  \n",
       "5986      34.10    -117.71      2.12500  \n",
       "7369      33.97    -118.21      1.67600  \n",
       "8227      33.78    -118.20      1.62500  \n",
       "13034     38.69    -121.15      2.25000  \n",
       "15634     37.80    -122.41      2.43800  \n",
       "15652     37.80    -122.41      5.00001  \n",
       "15657     37.79    -122.41      2.75000  \n",
       "15659     37.79    -122.41      2.25000  \n",
       "15795     37.77    -122.42      3.25000  \n",
       "15868     37.76    -122.41      2.60300  "
      ]
     },
     "execution_count": 24,
     "metadata": {},
     "output_type": "execute_result"
    }
   ],
   "source": [
    "df.loc[(df['HouseAge'] > 50) & (df['Population'] > 2500)]"
   ]
  },
  {
   "cell_type": "markdown",
   "metadata": {},
   "source": [
    "# Task 10"
   ]
  },
  {
   "cell_type": "markdown",
   "metadata": {},
   "source": [
    "**Описание**\n",
    "\n",
    "Узнать максимальное и минимальное значения медианной стоимости дома\n",
    "\n",
    "**Решение**"
   ]
  },
  {
   "cell_type": "code",
   "execution_count": 25,
   "metadata": {},
   "outputs": [
    {
     "name": "stdout",
     "output_type": "stream",
     "text": [
      "Max median house value = 5.00001\n",
      "Max median house value = 0.14999\n"
     ]
    }
   ],
   "source": [
    "m = df['MedHouseVal'].max()\n",
    "\n",
    "print(f'Max median house value = {df['MedHouseVal'].max()}')\n",
    "print(f'Max median house value = {df['MedHouseVal'].min()}')"
   ]
  },
  {
   "cell_type": "markdown",
   "metadata": {},
   "source": [
    "# Task 11"
   ]
  },
  {
   "cell_type": "markdown",
   "metadata": {},
   "source": [
    "**Описание**\n",
    "\n",
    "Используя метод `apply()`, вывести на экран название признака и его среднее значение\n",
    "\n",
    "**Решение**"
   ]
  },
  {
   "cell_type": "code",
   "execution_count": 26,
   "metadata": {},
   "outputs": [
    {
     "data": {
      "text/plain": [
       "MedInc            3.87\n",
       "HouseAge         28.64\n",
       "AveRooms          5.43\n",
       "AveBedrms         1.10\n",
       "Population    1,425.48\n",
       "AveOccup          3.07\n",
       "Latitude         35.63\n",
       "Longitude      -119.57\n",
       "MedHouseVal       2.07\n",
       "dtype: float64"
      ]
     },
     "execution_count": 26,
     "metadata": {},
     "output_type": "execute_result"
    }
   ],
   "source": [
    "import pandas as pd\n",
    "pd.options.display.float_format = '{:,.2f}'.format\n",
    "\n",
    "avg_values = df.apply(lambda x: x.mean())\n",
    "avg_values"
   ]
  },
  {
   "cell_type": "markdown",
   "metadata": {},
   "source": [
    "# Task 1*"
   ]
  },
  {
   "cell_type": "markdown",
   "metadata": {},
   "source": [
    "**Описание**\n",
    "\n",
    "Дан текст на английском языке. Необходимо закодировать его с помощью азбуки Морзе, где каждой букве соответствует  \n",
    "последовательность точек и тире. Например, буква `g` превратится в строку `--.`. В переменной `morze` для удобства  \n",
    "хранится словарь соответствия латинских букв коду Морзе.\n",
    "\n",
    "```\n",
    "morze = {\n",
    "    'a': '.-', 'b': '-…', 'c': '-.-.', 'd': '-..',\n",
    "    'e': '.', 'f': '..-.', 'g': '--.', 'h': '….',\n",
    "    'i': '..', 'j': '.---', 'k': '-.-', 'l': '.-..',\n",
    "    'm': '--', 'n': '-.', 'o': '---', 'p': '.--.',\n",
    "    'q': '--.-', 'r': '.-.', 's': '…', 't': '-',\n",
    "    'u': '..-', 'v': '…-', 'w': '.--', 'x': '-..-',\n",
    "    'y': '-.--', 'z': '--..'\n",
    "    }\n",
    "```\n",
    "\n",
    "**Решение**"
   ]
  },
  {
   "cell_type": "code",
   "execution_count": 27,
   "metadata": {},
   "outputs": [
    {
     "name": "stdout",
     "output_type": "stream",
     "text": [
      "…. . .-.. .-.. ---\n",
      ".-- --- .-. .-.. -..\n"
     ]
    }
   ],
   "source": [
    "def sol(msg: str) -> str:\n",
    "    morze = {\n",
    "        'a': '.-', 'b': '-…', 'c': '-.-.', 'd': '-..',\n",
    "        'e': '.', 'f': '..-.', 'g': '--.', 'h': '….',\n",
    "        'i': '..', 'j': '.---', 'k': '-.-', 'l': '.-..',\n",
    "        'm': '--', 'n': '-.', 'o': '---', 'p': '.--.',\n",
    "        'q': '--.-', 'r': '.-.', 's': '…', 't': '-',\n",
    "        'u': '..-', 'v': '…-', 'w': '.--', 'x': '-..-',\n",
    "        'y': '-.--', 'z': '--..'\n",
    "    }\n",
    "\n",
    "    res = []\n",
    "\n",
    "    words = msg.lower().split()\n",
    "    res = '\\n'.join(' '.join(morze[letter]\n",
    "                    for letter in word) for word in words)\n",
    "    return res\n",
    "\n",
    "\n",
    "def main():\n",
    "    print(sol('HeLlO WorlD'))\n",
    "\n",
    "\n",
    "if __name__ == '__main__':\n",
    "    main()"
   ]
  },
  {
   "cell_type": "markdown",
   "metadata": {},
   "source": [
    "# Task 2*"
   ]
  },
  {
   "cell_type": "markdown",
   "metadata": {},
   "source": [
    "**Описание**\n",
    "\n",
    "В некотором городе открывается новая служба по доставке электронных  \n",
    "писем. Необходимо наладить систему регистрации новых  \n",
    "пользователей.\n",
    "\n",
    "Регистрация должна работать следующим образом: если новый  \n",
    "пользователь хочет зарегистрироваться на сайте, то он должен послать  \n",
    "системе запрос name со своим именем. Система должна определить,  \n",
    "существует ли уже такое имя в базе данных.\n",
    "\n",
    "Если такого имени не существует, то оно заносится в базу данных системы и пользователю  \n",
    "возвращается ответ `\"ОК\"`, подтверждающий успешную регистрацию. А  \n",
    "если пользователь с таким именем уже существует, то система должна  \n",
    "сформировать новое имя и выдать его пользователю в качестве  \n",
    "подсказки, при этом сама подсказка также добавляется в базу данных.\n",
    "\n",
    "Новое имя формируется следующим образом: к name последовательно  \n",
    "приписываются числа, начиная с 1 (`name1`, `name2` и так далее), и среди  \n",
    "них находят такое наименьшее `i`, что namei еще не содержится в системе.\n",
    "\n",
    "**Входные данные**\n",
    "\n",
    "В первой строке входных данных задано число `n (1 ≤ n ≤ 100000)`.  \n",
    "Следующие `n` строк содержат запросы к системе. Каждый запрос  \n",
    "представляет собой непустую строку длиной не более `32` символов,  \n",
    "состоящую только из строчных букв латинского алфавита.\n",
    "\n",
    "**Выходные данные**\n",
    "\n",
    "В выходных данных должно содержаться n строк – ответы системы на\n",
    "запросы: `\"OK\"` в случае успешной регистрации, или подсказка с новым\n",
    "именем, если запрашиваемое уже занято.\n",
    "\n",
    "**Данные для проверки**\n",
    "\n",
    "<center>\n",
    "    \n",
    "<img src='data:image/png;base64,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'/>\n",
    "\n",
    "</center>\n",
    "\n",
    "**Решение**\n"
   ]
  },
  {
   "cell_type": "code",
   "execution_count": 29,
   "metadata": {},
   "outputs": [
    {
     "name": "stdout",
     "output_type": "stream",
     "text": [
      "OK\n",
      "OK\n",
      "sas1\n",
      "sas2\n",
      "sas4\n",
      "sas sas3 sas1 sas2 sas4\n"
     ]
    }
   ],
   "source": [
    "def sol():\n",
    "    db = {}\n",
    "    n = int(input(\"Enter N: \"))\n",
    "    for _ in range(n):\n",
    "        name = input()\n",
    "        if not name:\n",
    "            return\n",
    "        if db.get(name):\n",
    "            i = 1\n",
    "            new_name = f\"{name}{i}\"\n",
    "            while (new_name in db):\n",
    "                i += 1\n",
    "                new_name = f\"{name}{i}\"\n",
    "            db[new_name] = True\n",
    "            print(new_name)\n",
    "        else:\n",
    "            print('OK')\n",
    "            db[name] = True\n",
    "\n",
    "    print(*db.keys())\n",
    "\n",
    "\n",
    "def main():\n",
    "    sol()\n",
    "\n",
    "\n",
    "if __name__ == '__main__':\n",
    "    main()"
   ]
  },
  {
   "cell_type": "markdown",
   "metadata": {},
   "source": [
    "# Task 3*"
   ]
  },
  {
   "cell_type": "markdown",
   "metadata": {},
   "source": [
    "**Описание**\n",
    "\n",
    "Необходимо создать программу обработки запросов пользователей к файловой системе компьютера.  \n",
    "Над каждым файлом можно производить следующие действия: запись – `w` (`\"write\"`), чтение – `r` (`\"read\"`),  \n",
    "запуск – `x` (`\"execute\"`).\n",
    "\n",
    "**Входные данные**\n",
    "\n",
    "На вход программе подаются следующие параметры: число `n` – количество файлов в файловой системе.  \n",
    "В следующих `n` строках содержится информация с именами файлов и допустимыми действиями(`w`, `x`, `r`), разделенных пробелами.  \n",
    "Далее идет число `m` – количество запросов к файлам вида «операция файл» (обозначение операции: `\"write\"`, `\"read\"`, `\"execute\"`).\n",
    "\n",
    "**Выходные данные**\n",
    "\n",
    "Для каждого допустимого запроса программа должна возвращать `OK`, для недопустимого – `Access denied`.\n",
    "\n",
    "**Данные для проверки**\n",
    "\n",
    "<center>\n",
    "\n",
    "<img src='data:image/png;base64,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'/>\n",
    "\n",
    "</center>\n",
    "\n",
    "**Решение**"
   ]
  },
  {
   "cell_type": "code",
   "execution_count": 30,
   "metadata": {},
   "outputs": [
    {
     "name": "stdout",
     "output_type": "stream",
     "text": [
      "OK\n",
      "Access denied\n"
     ]
    }
   ],
   "source": [
    "def sol():\n",
    "    fs = {}\n",
    "\n",
    "    n = int(input(\"Enter N: \"))\n",
    "    for _ in range(n):\n",
    "        filename, *actions = input().split()\n",
    "        fs[filename] = actions\n",
    "        \n",
    "    m = int(input(\"Enter M: \"))\n",
    "    for _ in range(m):\n",
    "        cmd, target = [word for word in input().split()]\n",
    "        if (cmd.lower() == 'execute'):\n",
    "            cmd = 'x'\n",
    "            \n",
    "        if not fs.get(target) or cmd[0] not in fs[target]:\n",
    "            print('Access denied')\n",
    "            continue\n",
    "        print('OK')\n",
    "\n",
    "\n",
    "def main():\n",
    "    sol()\n",
    "\n",
    "\n",
    "if __name__ == '__main__':\n",
    "    main()"
   ]
  }
 ],
 "metadata": {
  "kernelspec": {
   "display_name": "Python 3 (ipykernel)",
   "language": "python",
   "name": "python3"
  },
  "language_info": {
   "codemirror_mode": {
    "name": "ipython",
    "version": 3
   },
   "file_extension": ".py",
   "mimetype": "text/x-python",
   "name": "python",
   "nbconvert_exporter": "python",
   "pygments_lexer": "ipython3",
   "version": "3.12.5"
  }
 },
 "nbformat": 4,
 "nbformat_minor": 4
}
